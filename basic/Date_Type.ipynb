{
 "cells": [
  {
   "cell_type": "markdown",
   "metadata": {},
   "source": [
    "# 자료형\n",
    "## 1.숫자형 자료형"
   ]
  },
  {
   "cell_type": "code",
   "execution_count": 4,
   "metadata": {},
   "outputs": [],
   "source": [
    "a=3\n",
    "b=4"
   ]
  },
  {
   "cell_type": "code",
   "execution_count": 11,
   "metadata": {},
   "outputs": [
    {
     "name": "stdout",
     "output_type": "stream",
     "text": [
      "7\n",
      "12\n",
      "0.75\n",
      "81\n",
      "1\n",
      "3\n"
     ]
    },
    {
     "data": {
      "text/plain": [
       "0"
      ]
     },
     "execution_count": 11,
     "metadata": {},
     "output_type": "execute_result"
    }
   ],
   "source": [
    "####사칙연산\n",
    "print(a+b)\n",
    "print(a*b)\n",
    "print(a/b)\n",
    "\n",
    "print(a**b)  ##제곱\n",
    "print(7 % 3) ##나눗셈 후 나머지\n",
    "print(3 % 7)\n",
    "\n",
    "a // b ##나누기 후 소수점 아래 버림"
   ]
  },
  {
   "cell_type": "markdown",
   "metadata": {},
   "source": [
    "## 2.문자열 자료형"
   ]
  },
  {
   "cell_type": "code",
   "execution_count": 12,
   "metadata": {},
   "outputs": [
    {
     "name": "stdout",
     "output_type": "stream",
     "text": [
      "Hello World\n",
      "Python is fun\n"
     ]
    }
   ],
   "source": [
    "print('Hello World')\n",
    "print('Python is fun')"
   ]
  },
  {
   "cell_type": "code",
   "execution_count": 15,
   "metadata": {},
   "outputs": [
    {
     "name": "stdout",
     "output_type": "stream",
     "text": [
      "python's is favorite is peal\n",
      "\"Python is very easy.\" he said.\n"
     ]
    }
   ],
   "source": [
    "####문자열에 따옴표 포함\n",
    "print('python\\'s is favorite is peal')\n",
    "print(\"\\\"Python is very easy.\\\" he said.\")\n",
    "\n",
    "\n",
    "#### \\(백슬래시)를 이용하면 큰 따옴표와 작은 따옴표를 문자열에 포함시킬 수 있다."
   ]
  },
  {
   "cell_type": "code",
   "execution_count": 18,
   "metadata": {},
   "outputs": [
    {
     "name": "stdout",
     "output_type": "stream",
     "text": [
      "Life is too short\n",
      "You need python\n"
     ]
    }
   ],
   "source": [
    "####여러 줄로 이루어진 문자열(개행문자 \\n 이용)\n",
    "multiline1='Life is too short\\nYou need python'\n",
    "print(multiline1)"
   ]
  },
  {
   "cell_type": "code",
   "execution_count": 21,
   "metadata": {},
   "outputs": [
    {
     "name": "stdout",
     "output_type": "stream",
     "text": [
      "\n",
      "life is too short\n",
      "you need python\n",
      "\n"
     ]
    }
   ],
   "source": [
    "multiline2='''\n",
    "life is too short\n",
    "you need python\n",
    "'''\n",
    "print(multiline2)"
   ]
  },
  {
   "cell_type": "markdown",
   "metadata": {},
   "source": [
    "#### \\n 이나 3중 따옴표를 이용하면 여러 줄로 나오는 문자열을 만들 수 있다"
   ]
  },
  {
   "cell_type": "markdown",
   "metadata": {},
   "source": [
    "### 이스케이프 코드\n",
    "    프로그래밍을 할 때 사용할 수 있도록 미리 정의해 둔 '문자조합'\n",
    "    출력물을 보기 좋게 하기 위해 사용\n",
    "\n",
    "\n",
    "| 코드 | 설명                     |\n",
    "|------|--------------------------|\n",
    "| \\n   | 문자열 안에서 줄을 바꿀 때 사용 |\n",
    "| \\t   | 문자열 사이에 탭 간격을 줄 때 사용 |\n",
    "| \\\\   | 문자 \\를 그대로 표현할 때 사용 |\n",
    "| \\'   | 작은따옴표(')를 그대로 표현할 때 사용 |\n",
    "| \\\"   | 큰따옴표(\")를 그대로 표현할 때 사용 |"
   ]
  },
  {
   "cell_type": "code",
   "execution_count": 25,
   "metadata": {},
   "outputs": [
    {
     "name": "stdout",
     "output_type": "stream",
     "text": [
      "python is fun\n"
     ]
    }
   ],
   "source": [
    "#### 문자열 더해서 연결하기 (concat)\n",
    "head='python'\n",
    "tail=' is fun'\n",
    "print(head+tail)"
   ]
  },
  {
   "cell_type": "code",
   "execution_count": 27,
   "metadata": {},
   "outputs": [
    {
     "name": "stdout",
     "output_type": "stream",
     "text": [
      "pythonpython\n"
     ]
    }
   ],
   "source": [
    "#### 문자열 곱하기\n",
    "print(head *2)"
   ]
  },
  {
   "cell_type": "code",
   "execution_count": 32,
   "metadata": {},
   "outputs": [
    {
     "name": "stdout",
     "output_type": "stream",
     "text": [
      "L\n",
      "s\n",
      "n\n",
      "o\n"
     ]
    }
   ],
   "source": [
    "#### 인덱싱\n",
    "a = 'Life is too short, you need python'\n",
    "print(a[0])\n",
    "print(a[12])\n",
    "print(a[-1])\n",
    "print(a[-2])"
   ]
  },
  {
   "cell_type": "markdown",
   "metadata": {},
   "source": [
    "파이썬은 0부터 숫자를 센다  \n",
    "●-1은 문자열의 마지막  \n",
    "●-2는 문자열의 끝에서 두번째"
   ]
  },
  {
   "cell_type": "code",
   "execution_count": 37,
   "metadata": {},
   "outputs": [
    {
     "name": "stdout",
     "output_type": "stream",
     "text": [
      "Life\n",
      "Life i\n"
     ]
    }
   ],
   "source": [
    "#### 슬라이싱\n",
    "print(a[0:4])\n",
    "print(a[0:6])\n"
   ]
  },
  {
   "cell_type": "markdown",
   "metadata": {},
   "source": [
    "a[시작번호 : 끝 번호]  \n",
    "● 끝 번호에 해당되는 것은 포함 안됨  \n",
    "● 공백도 일반 문자와 동일하게 취급"
   ]
  },
  {
   "cell_type": "code",
   "execution_count": 39,
   "metadata": {},
   "outputs": [
    {
     "name": "stdout",
     "output_type": "stream",
     "text": [
      "20010331\n",
      "Rainy\n"
     ]
    }
   ],
   "source": [
    "a='20010331Rainy'\n",
    "date=a[:8]\n",
    "weather=a[8:]\n",
    "\n",
    "print(date)     ##시작 인덱스가 없으면 처음부터 시작\n",
    "print(weather)  ##끝 인덱스가 없으면 마지막까지"
   ]
  },
  {
   "cell_type": "markdown",
   "metadata": {},
   "source": [
    "#### 문자열 포메팅  \n",
    "문자열 내에 값을 삽입하는 것을 문자열 포매팅이라 함  \n",
    "문자열 포매팅에는 3가지 방법이 있음  \n",
    "1. %연산\n",
    "2. .format\n",
    "3. f 문자열"
   ]
  },
  {
   "cell_type": "markdown",
   "metadata": {},
   "source": [
    "### 1. %연산"
   ]
  },
  {
   "cell_type": "code",
   "execution_count": 4,
   "metadata": {},
   "outputs": [
    {
     "name": "stdout",
     "output_type": "stream",
     "text": [
      "I eat  3 apples.\n",
      "I ate five apples\n"
     ]
    }
   ],
   "source": [
    "## 1-숫자 대입\n",
    "print('I eat  %d apples.' %3)     ##문자열 내에 3이라는 정수를 삽입하고 싶은 자리에 %d라는 문자를 넣고 가장 뒤에 삽입할 정수를 % 뒤에 적는다.\n",
    "\n",
    "## 2-문자열 대입\n",
    "print('I ate %s apples' %'five')  ##문자열 내에 삽입하고 싶은 자리에 %s 를 넣고 가장 뒤에 삽입할 문자를 % 뒤에 적는다.\n"
   ]
  },
  {
   "cell_type": "code",
   "execution_count": 7,
   "metadata": {},
   "outputs": [
    {
     "name": "stdout",
     "output_type": "stream",
     "text": [
      "I ate 10 apple. So I was sick for three days.\n"
     ]
    }
   ],
   "source": [
    "##활용\n",
    "number=10\n",
    "day='three'\n",
    "\n",
    "print('I ate %d apple. So I was sick for %s days.' %(number,day))"
   ]
  },
  {
   "cell_type": "markdown",
   "metadata": {},
   "source": [
    "## 문자열 포멧 코드  \n",
    "\n",
    "| 문자열 포멧 코드 |      설명      |\n",
    "|--------------  | ------------  |\n",
    "|       %s       | 문자열(string) |\n",
    "|       %c       | 문자1개(charater)\n",
    "|       %d       | 정수(Integer)  |\n",
    "| %f | 부동소수(float) |\n",
    "| %o | 8진수 |\n",
    "| %x | 16진수 |\n",
    "| %% | %문자 그 자체 |"
   ]
  },
  {
   "cell_type": "code",
   "execution_count": 8,
   "metadata": {},
   "outputs": [
    {
     "name": "stdout",
     "output_type": "stream",
     "text": [
      "I have 3 apples\n",
      "I have 3.14 apples\n"
     ]
    }
   ],
   "source": [
    "## %s의 경우 어떤 값이든 변환 가능-> 자동으로 %뒤의 값을 문자열로 변경\n",
    "print('I have %s apples' %3)\n",
    "print('I have %s apples' %3.14)"
   ]
  },
  {
   "cell_type": "code",
   "execution_count": 10,
   "metadata": {},
   "outputs": [
    {
     "name": "stdout",
     "output_type": "stream",
     "text": [
      "accuracy is 98%.\n"
     ]
    }
   ],
   "source": [
    "## %d와 %를 같이 사용하는 경우엔 %%를 사용\n",
    "print('accuracy is %d%%.' %98)"
   ]
  },
  {
   "cell_type": "code",
   "execution_count": 15,
   "metadata": {},
   "outputs": [
    {
     "name": "stdout",
     "output_type": "stream",
     "text": [
      "        hi\n",
      "hi        jane\n"
     ]
    }
   ],
   "source": [
    "## 정렬과 공백\n",
    "print('%10s' %'hi')\n",
    "print('%-10sjane' %'hi')\n",
    "## '%10s'는 전체 길이가 10인 문자열 공간에서 hi를 오른쪽으로 정렬하고 그 앞의 나머지는 공백으로 넘긴다는 의미\n",
    "## '%-10s'는 전체 길이가 10인 문자열 공간에서 hi를 왼쪽으로 정렬하고 그 뒤의 나머지를 공백으로 넘긴다는 의미"
   ]
  },
  {
   "cell_type": "code",
   "execution_count": 21,
   "metadata": {},
   "outputs": [
    {
     "name": "stdout",
     "output_type": "stream",
     "text": [
      "3.4283\n",
      "    3.4233\n",
      "3.3242    jane\n"
     ]
    }
   ],
   "source": [
    "## 소수점 표현\n",
    "print(\"%0.4f\" % 3.428329) ##소수점 이하 넷째 자리까지만 표현\n",
    "\n",
    "print('%10.4f' %3.4232839) ##소수점 이하 넷째 자리까지만 표현하고 문자열 길이가 10개인 문자열을 만들고, 오른쪽 정렬\n",
    "print('%-10.4fjane' %3.32423423) ##소수점 이하 넷쨰 자리까지만 표현하고 문자열 길이가 10개인 문자열을 만들어 왼쪽 정렬"
   ]
  },
  {
   "cell_type": "markdown",
   "metadata": {},
   "source": [
    "### 2. format 함수를 이용한 포매팅"
   ]
  },
  {
   "cell_type": "code",
   "execution_count": 24,
   "metadata": {},
   "outputs": [
    {
     "name": "stdout",
     "output_type": "stream",
     "text": [
      "I ate 3 apples.\n",
      "I ate five apples\n"
     ]
    }
   ],
   "source": [
    "## format 함수를 이용한 포매팅 -> %연산자보다 깔끔함\n",
    "print('I ate {0} apples.'.format(3))\n",
    "print('I ate {0} apples'.format('five'))"
   ]
  },
  {
   "cell_type": "code",
   "execution_count": 25,
   "metadata": {},
   "outputs": [
    {
     "name": "stdout",
     "output_type": "stream",
     "text": [
      "I ate 10 apples. So I was sick for three days\n"
     ]
    }
   ],
   "source": [
    "##활용\n",
    "number=10\n",
    "day='three'\n",
    "print('I ate {0} apples. So I was sick for {1} days'.format(number,day))"
   ]
  },
  {
   "cell_type": "markdown",
   "metadata": {},
   "source": [
    "2개 이상의 값을 넣을 경우 문자열의 {0}, {1}과 같은 인덱스 항목이 format 함수의 입력값으로 순서에 맞게 바뀐다.  "
   ]
  },
  {
   "cell_type": "code",
   "execution_count": 27,
   "metadata": {},
   "outputs": [
    {
     "name": "stdout",
     "output_type": "stream",
     "text": [
      "3.4323\n",
      "    3.4323\n"
     ]
    }
   ],
   "source": [
    "## 소수점 표현 -> 앞에서 살펴보았던 표현식 사용 가능\n",
    "y=3.4323423\n",
    "print('{0:0.4f}'.format(y)) #소수점 4자리\n",
    "print('{0:10.4f}'.format(y)) #소수점 4자리 + 오른쪽 정렬\n"
   ]
  },
  {
   "cell_type": "code",
   "execution_count": 28,
   "metadata": {},
   "outputs": [
    {
     "name": "stdout",
     "output_type": "stream",
     "text": [
      "{ and }\n"
     ]
    }
   ],
   "source": [
    "## {}를 표시하고 싶은 경우\n",
    "print('{{ and }}'.format())"
   ]
  },
  {
   "cell_type": "markdown",
   "metadata": {},
   "source": [
    "format 함수를 사용해 문자열 포매팅을 할 경우 { }와 같은 중괄호(brace) 문자를 포매팅 문자가 아닌 문자 그대로 사용하고 싶은 경우에는 위 예의 {{ }}처럼 2개를 연속해서 사용하면 된다."
   ]
  },
  {
   "cell_type": "markdown",
   "metadata": {},
   "source": [
    "### 3. f문자열"
   ]
  },
  {
   "cell_type": "code",
   "execution_count": 35,
   "metadata": {},
   "outputs": [
    {
     "name": "stdout",
     "output_type": "stream",
     "text": [
      "내 이름은 홍길동입니다. 나이는 30.3422입니다\n"
     ]
    }
   ],
   "source": [
    "name='홍길동'\n",
    "age= 30.3422323123\n",
    "print(f'내 이름은 {name}입니다. 나이는 {age:0.4f}입니다')"
   ]
  },
  {
   "cell_type": "markdown",
   "metadata": {},
   "source": [
    "## 문자열 관련 함수  \n",
    " ● 문자열 내장함수 : 문자열 자료형이 가지고 있는 함수로, 문자열 변수 뒤에 . 을 붙인 다음에 함수 이름을 쓰면 된다."
   ]
  },
  {
   "cell_type": "markdown",
   "metadata": {},
   "source": [
    "| 함수 | 설명 |\n",
    "| --- | --- | \n",
    "| count( ) | 특정 문자의 개수 |\n",
    "| find( ) | 특정 문자의 위치 |\n",
    "| index( ) | 특정 문자의 위치 |\n",
    "| upper( ), lower( ) | 대,소문자 변환 |\n",
    "| strip( ) | 공백 제거 |\n",
    "| replace( ) | 문자 바꾸기 |\n",
    "| split( ) | 문자열 나누기 |"
   ]
  },
  {
   "cell_type": "code",
   "execution_count": 39,
   "metadata": {},
   "outputs": [
    {
     "data": {
      "text/plain": [
       "2"
      ]
     },
     "execution_count": 39,
     "metadata": {},
     "output_type": "execute_result"
    }
   ],
   "source": [
    "##count : 특정 문자의 개수\n",
    "a = 'hobby'\n",
    "a.count('b')"
   ]
  },
  {
   "cell_type": "code",
   "execution_count": 41,
   "metadata": {},
   "outputs": [
    {
     "name": "stdout",
     "output_type": "stream",
     "text": [
      "10\n",
      "-1\n"
     ]
    }
   ],
   "source": [
    "## find : 특정 문자의 인덱스 1\n",
    "a = 'python is best choice'\n",
    "print(a.find('b'))\n",
    "print(a.find('k'))\n"
   ]
  },
  {
   "cell_type": "markdown",
   "metadata": {},
   "source": [
    "문자열 중 문자 b가 처음으로 나온 위치를 반환하고 만약 찾는 문자나 문자열이 존재하지 않으면 -1을 리턴"
   ]
  },
  {
   "cell_type": "code",
   "execution_count": 43,
   "metadata": {},
   "outputs": [
    {
     "name": "stdout",
     "output_type": "stream",
     "text": [
      "8\n"
     ]
    },
    {
     "ename": "ValueError",
     "evalue": "substring not found",
     "output_type": "error",
     "traceback": [
      "\u001b[1;31m---------------------------------------------------------------------------\u001b[0m",
      "\u001b[1;31mValueError\u001b[0m                                Traceback (most recent call last)",
      "Cell \u001b[1;32mIn[43], line 4\u001b[0m\n\u001b[0;32m      2\u001b[0m a \u001b[38;5;241m=\u001b[39m \u001b[38;5;124m'\u001b[39m\u001b[38;5;124mLife is too short\u001b[39m\u001b[38;5;124m'\u001b[39m\n\u001b[0;32m      3\u001b[0m \u001b[38;5;28mprint\u001b[39m(a\u001b[38;5;241m.\u001b[39mindex(\u001b[38;5;124m'\u001b[39m\u001b[38;5;124mt\u001b[39m\u001b[38;5;124m'\u001b[39m))\n\u001b[1;32m----> 4\u001b[0m \u001b[38;5;28mprint\u001b[39m(\u001b[43ma\u001b[49m\u001b[38;5;241;43m.\u001b[39;49m\u001b[43mindex\u001b[49m\u001b[43m(\u001b[49m\u001b[38;5;124;43m'\u001b[39;49m\u001b[38;5;124;43mk\u001b[39;49m\u001b[38;5;124;43m'\u001b[39;49m\u001b[43m)\u001b[49m)\n",
      "\u001b[1;31mValueError\u001b[0m: substring not found"
     ]
    }
   ],
   "source": [
    "## index : 특정 문자의 인덱스 2\n",
    "a = 'Life is too short'\n",
    "print(a.index('t'))\n",
    "print(a.index('k'))"
   ]
  },
  {
   "cell_type": "markdown",
   "metadata": {},
   "source": [
    "find와는 다른 점은 찾는 문자열이 존재하지 않으면 오류를 발생 시킨다."
   ]
  },
  {
   "cell_type": "code",
   "execution_count": 45,
   "metadata": {},
   "outputs": [
    {
     "data": {
      "text/plain": [
       "'a,b,c,d'"
      ]
     },
     "execution_count": 45,
     "metadata": {},
     "output_type": "execute_result"
    }
   ],
   "source": [
    "## join : 문자열 삽입\n",
    "a=','\n",
    "a.join('abcd')"
   ]
  },
  {
   "cell_type": "code",
   "execution_count": 47,
   "metadata": {},
   "outputs": [
    {
     "name": "stdout",
     "output_type": "stream",
     "text": [
      "hi\n",
      "HI\n"
     ]
    }
   ],
   "source": [
    "## upper, lower : 대,소문자 변환\n",
    "a = 'HI'\n",
    "b = 'hi'\n",
    "print(a.lower())\n",
    "print(a.upper())"
   ]
  },
  {
   "cell_type": "code",
   "execution_count": 50,
   "metadata": {},
   "outputs": [
    {
     "name": "stdout",
     "output_type": "stream",
     "text": [
      "hi\n",
      "hi \n",
      " hi\n"
     ]
    }
   ],
   "source": [
    "## strip : 양쪽 공백 지우기\n",
    "## lstrip : 왼쪽 공백 지우기\n",
    "## rstrip : 오른쪽 공백 지우기\n",
    "a = ' hi '\n",
    "print(a.strip())\n",
    "print(a.lstrip())\n",
    "print(a.rstrip())"
   ]
  },
  {
   "cell_type": "code",
   "execution_count": 52,
   "metadata": {},
   "outputs": [
    {
     "data": {
      "text/plain": [
       "'your leg is too short'"
      ]
     },
     "execution_count": 52,
     "metadata": {},
     "output_type": "execute_result"
    }
   ],
   "source": [
    "## replace : 문자열 바꾸기\n",
    "a = 'Life is too short'\n",
    "a.replace('Life','your leg')"
   ]
  },
  {
   "cell_type": "code",
   "execution_count": 56,
   "metadata": {},
   "outputs": [
    {
     "name": "stdout",
     "output_type": "stream",
     "text": [
      "['Life', 'is', 'too', 'short']\n",
      "['a', 'b', 'c', 'd']\n"
     ]
    }
   ],
   "source": [
    "## split : 문자열 나누기\n",
    "a = 'Life is too short'\n",
    "print(a.split())\n",
    "\n",
    "b = 'a:b:c:d'\n",
    "print(b.split(':'))"
   ]
  },
  {
   "cell_type": "code",
   "execution_count": 57,
   "metadata": {},
   "outputs": [
    {
     "name": "stdout",
     "output_type": "stream",
     "text": [
      "Life_is_too_short\n"
     ]
    }
   ],
   "source": [
    "## 다음과 같이 연속으로 사용할수도 있다.\n",
    "a = ' Life is too short '\n",
    "print(a.strip().replace(\" \",'_'))"
   ]
  },
  {
   "cell_type": "markdown",
   "metadata": {},
   "source": [
    "## Boolean 자료형  \n",
    "### 참(True)과 거짓(False)를 나타내는 자료형"
   ]
  },
  {
   "cell_type": "code",
   "execution_count": 59,
   "metadata": {},
   "outputs": [
    {
     "name": "stdout",
     "output_type": "stream",
     "text": [
      "True\n",
      "True\n",
      "False\n"
     ]
    }
   ],
   "source": [
    "##Boolean 자료형은 조건문의 리턴값으로 사용됨\n",
    "print(1==1)\n",
    "print(2>1)\n",
    "print(2<1)"
   ]
  },
  {
   "cell_type": "markdown",
   "metadata": {},
   "source": [
    "| 값         | True or False |\n",
    "|------------|---------------|\n",
    "| \"python\"   | True          |\n",
    "| \"\"         | False         |\n",
    "| [1, 2, 3]  | True          |\n",
    "| []         | False         |\n",
    "| ()         | False         |\n",
    "| {}         | False         |\n",
    "| 1          | True          |\n",
    "| 0          | False         |\n",
    "| None       | False         |"
   ]
  },
  {
   "cell_type": "code",
   "execution_count": 60,
   "metadata": {},
   "outputs": [
    {
     "name": "stdout",
     "output_type": "stream",
     "text": [
      "True\n",
      "False\n"
     ]
    }
   ],
   "source": [
    "## bool 연산\n",
    "print(bool('python'))\n",
    "print(bool(''))"
   ]
  },
  {
   "cell_type": "markdown",
   "metadata": {},
   "source": [
    "python이라는 문자열은 빈 문자열이 아니므로 True, ''는 빈 문자열이므로 False 리턴"
   ]
  },
  {
   "cell_type": "code",
   "execution_count": 64,
   "metadata": {},
   "outputs": [
    {
     "name": "stdout",
     "output_type": "stream",
     "text": [
      "True\n",
      "False\n",
      "False\n",
      "True\n"
     ]
    }
   ],
   "source": [
    "print(bool([1,2,3]))\n",
    "print(bool([]))\n",
    "print(bool(0))\n",
    "print(bool(3))"
   ]
  },
  {
   "cell_type": "code",
   "execution_count": null,
   "metadata": {},
   "outputs": [],
   "source": []
  }
 ],
 "metadata": {
  "kernelspec": {
   "display_name": "base",
   "language": "python",
   "name": "python3"
  },
  "language_info": {
   "codemirror_mode": {
    "name": "ipython",
    "version": 3
   },
   "file_extension": ".py",
   "mimetype": "text/x-python",
   "name": "python",
   "nbconvert_exporter": "python",
   "pygments_lexer": "ipython3",
   "version": "3.10.9"
  }
 },
 "nbformat": 4,
 "nbformat_minor": 2
}

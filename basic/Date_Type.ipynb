{
 "cells": [
  {
   "cell_type": "markdown",
   "metadata": {},
   "source": [
    "# 자료형\n",
    "---"
   ]
  },
  {
   "cell_type": "markdown",
   "metadata": {},
   "source": [
    "## 1.숫자형 자료형"
   ]
  },
  {
   "cell_type": "code",
   "execution_count": 4,
   "metadata": {},
   "outputs": [],
   "source": [
    "a=3\n",
    "b=4"
   ]
  },
  {
   "cell_type": "code",
   "execution_count": null,
   "metadata": {},
   "outputs": [],
   "source": [
    "####사칙연산\n",
    "print(a+b)\n",
    "print(a*b)\n",
    "print(a/b)\n",
    "\n",
    "print(a**b)  ##제곱\n",
    "print(7 % 3) ##나눗셈 후 나머지\n",
    "print(3 % 7)\n",
    "\n",
    "a // b ##나누기 후 소수점 아래 버림"
   ]
  },
  {
   "cell_type": "markdown",
   "metadata": {},
   "source": [
    "---"
   ]
  },
  {
   "cell_type": "markdown",
   "metadata": {},
   "source": [
    "## 2.문자열 자료형"
   ]
  },
  {
   "cell_type": "code",
   "execution_count": null,
   "metadata": {},
   "outputs": [],
   "source": [
    "print('Hello World')\n",
    "print('Python is fun')"
   ]
  },
  {
   "cell_type": "code",
   "execution_count": null,
   "metadata": {},
   "outputs": [],
   "source": [
    "####문자열에 따옴표 포함\n",
    "print('python\\'s is favorite is peal')\n",
    "print(\"\\\"Python is very easy.\\\" he said.\")\n",
    "\n",
    "\n",
    "#### \\(백슬래시)를 이용하면 큰 따옴표와 작은 따옴표를 문자열에 포함시킬 수 있다."
   ]
  },
  {
   "cell_type": "code",
   "execution_count": null,
   "metadata": {},
   "outputs": [],
   "source": [
    "####여러 줄로 이루어진 문자열(개행문자 \\n 이용)\n",
    "multiline1='Life is too short\\nYou need python'\n",
    "print(multiline1)"
   ]
  },
  {
   "cell_type": "code",
   "execution_count": null,
   "metadata": {},
   "outputs": [],
   "source": [
    "multiline2='''\n",
    "life is too short\n",
    "you need python\n",
    "'''\n",
    "print(multiline2)"
   ]
  },
  {
   "cell_type": "markdown",
   "metadata": {},
   "source": [
    "#### \\n 이나 3중 따옴표를 이용하면 여러 줄로 나오는 문자열을 만들 수 있다"
   ]
  },
  {
   "cell_type": "markdown",
   "metadata": {},
   "source": [
    "### 이스케이프 코드\n",
    "    프로그래밍을 할 때 사용할 수 있도록 미리 정의해 둔 '문자조합'\n",
    "    출력물을 보기 좋게 하기 위해 사용\n",
    "\n",
    "\n",
    "| 코드 | 설명                     |\n",
    "|------|--------------------------|\n",
    "| \\n   | 문자열 안에서 줄을 바꿀 때 사용 |\n",
    "| \\t   | 문자열 사이에 탭 간격을 줄 때 사용 |\n",
    "| \\\\   | 문자 \\를 그대로 표현할 때 사용 |\n",
    "| \\'   | 작은따옴표(')를 그대로 표현할 때 사용 |\n",
    "| \\\"   | 큰따옴표(\")를 그대로 표현할 때 사용 |"
   ]
  },
  {
   "cell_type": "code",
   "execution_count": null,
   "metadata": {},
   "outputs": [],
   "source": [
    "#### 문자열 더해서 연결하기 (concat)\n",
    "head='python'\n",
    "tail=' is fun'\n",
    "print(head+tail)"
   ]
  },
  {
   "cell_type": "code",
   "execution_count": null,
   "metadata": {},
   "outputs": [],
   "source": [
    "#### 문자열 곱하기\n",
    "print(head *2)"
   ]
  },
  {
   "cell_type": "code",
   "execution_count": null,
   "metadata": {},
   "outputs": [],
   "source": [
    "#### 인덱싱\n",
    "a = 'Life is too short, you need python'\n",
    "print(a[0])\n",
    "print(a[12])\n",
    "print(a[-1])\n",
    "print(a[-2])"
   ]
  },
  {
   "cell_type": "markdown",
   "metadata": {},
   "source": [
    "파이썬은 0부터 숫자를 센다  \n",
    "●-1은 문자열의 마지막  \n",
    "●-2는 문자열의 끝에서 두번째"
   ]
  },
  {
   "cell_type": "code",
   "execution_count": null,
   "metadata": {},
   "outputs": [],
   "source": [
    "#### 슬라이싱\n",
    "print(a[0:4])\n",
    "print(a[0:6])\n"
   ]
  },
  {
   "cell_type": "markdown",
   "metadata": {},
   "source": [
    "a[시작번호 : 끝 번호]  \n",
    "● 끝 번호에 해당되는 것은 포함 안됨  \n",
    "● 공백도 일반 문자와 동일하게 취급"
   ]
  },
  {
   "cell_type": "code",
   "execution_count": null,
   "metadata": {},
   "outputs": [],
   "source": [
    "a='20010331Rainy'\n",
    "date=a[:8]\n",
    "weather=a[8:]\n",
    "\n",
    "print(date)     ##시작 인덱스가 없으면 처음부터 시작\n",
    "print(weather)  ##끝 인덱스가 없으면 마지막까지"
   ]
  },
  {
   "cell_type": "markdown",
   "metadata": {},
   "source": [
    "#### 문자열 포메팅  \n",
    "문자열 내에 값을 삽입하는 것을 문자열 포매팅이라 함  \n",
    "문자열 포매팅에는 3가지 방법이 있음  \n",
    "1. %연산\n",
    "2. .format\n",
    "3. f 문자열"
   ]
  },
  {
   "cell_type": "markdown",
   "metadata": {},
   "source": [
    "### 1. %연산"
   ]
  },
  {
   "cell_type": "code",
   "execution_count": null,
   "metadata": {},
   "outputs": [],
   "source": [
    "## 1-숫자 대입\n",
    "print('I eat  %d apples.' %3)     ##문자열 내에 3이라는 정수를 삽입하고 싶은 자리에 %d라는 문자를 넣고 가장 뒤에 삽입할 정수를 % 뒤에 적는다.\n",
    "\n",
    "## 2-문자열 대입\n",
    "print('I ate %s apples' %'five')  ##문자열 내에 삽입하고 싶은 자리에 %s 를 넣고 가장 뒤에 삽입할 문자를 % 뒤에 적는다.\n"
   ]
  },
  {
   "cell_type": "code",
   "execution_count": null,
   "metadata": {},
   "outputs": [],
   "source": [
    "##활용\n",
    "number=10\n",
    "day='three'\n",
    "\n",
    "print('I ate %d apple. So I was sick for %s days.' %(number,day))"
   ]
  },
  {
   "cell_type": "markdown",
   "metadata": {},
   "source": [
    "## 문자열 포멧 코드  \n",
    "\n",
    "| 문자열 포멧 코드 |      설명      |\n",
    "|--------------  | ------------  |\n",
    "|       %s       | 문자열(string) |\n",
    "|       %c       | 문자1개(charater) |\n",
    "|       %d       | 정수(Integer)  |\n",
    "| %f | 부동소수(float) |\n",
    "| %o | 8진수 |\n",
    "| %x | 16진수 |\n",
    "| %% | %문자 그 자체 |"
   ]
  },
  {
   "cell_type": "code",
   "execution_count": null,
   "metadata": {},
   "outputs": [],
   "source": [
    "## %s의 경우 어떤 값이든 변환 가능-> 자동으로 %뒤의 값을 문자열로 변경\n",
    "print('I have %s apples' %3)\n",
    "print('I have %s apples' %3.14)"
   ]
  },
  {
   "cell_type": "code",
   "execution_count": null,
   "metadata": {},
   "outputs": [],
   "source": [
    "## %d와 %를 같이 사용하는 경우엔 %%를 사용\n",
    "print('accuracy is %d%%.' %98)"
   ]
  },
  {
   "cell_type": "code",
   "execution_count": null,
   "metadata": {},
   "outputs": [],
   "source": [
    "## 정렬과 공백\n",
    "print('%10s' %'hi')\n",
    "print('%-10sjane' %'hi')\n",
    "## '%10s'는 전체 길이가 10인 문자열 공간에서 hi를 오른쪽으로 정렬하고 그 앞의 나머지는 공백으로 넘긴다는 의미\n",
    "## '%-10s'는 전체 길이가 10인 문자열 공간에서 hi를 왼쪽으로 정렬하고 그 뒤의 나머지를 공백으로 넘긴다는 의미"
   ]
  },
  {
   "cell_type": "code",
   "execution_count": null,
   "metadata": {},
   "outputs": [],
   "source": [
    "## 소수점 표현\n",
    "print(\"%0.4f\" % 3.428329) ##소수점 이하 넷째 자리까지만 표현\n",
    "\n",
    "print('%10.4f' %3.4232839) ##소수점 이하 넷째 자리까지만 표현하고 문자열 길이가 10개인 문자열을 만들고, 오른쪽 정렬\n",
    "print('%-10.4fjane' %3.32423423) ##소수점 이하 넷쨰 자리까지만 표현하고 문자열 길이가 10개인 문자열을 만들어 왼쪽 정렬"
   ]
  },
  {
   "cell_type": "markdown",
   "metadata": {},
   "source": [
    "### 2. format 함수를 이용한 포매팅"
   ]
  },
  {
   "cell_type": "code",
   "execution_count": null,
   "metadata": {},
   "outputs": [],
   "source": [
    "## format 함수를 이용한 포매팅 -> %연산자보다 깔끔함\n",
    "print('I ate {0} apples.'.format(3))\n",
    "print('I ate {0} apples'.format('five'))"
   ]
  },
  {
   "cell_type": "code",
   "execution_count": null,
   "metadata": {},
   "outputs": [],
   "source": [
    "##활용\n",
    "number=10\n",
    "day='three'\n",
    "print('I ate {0} apples. So I was sick for {1} days'.format(number,day))"
   ]
  },
  {
   "cell_type": "markdown",
   "metadata": {},
   "source": [
    "2개 이상의 값을 넣을 경우 문자열의 {0}, {1}과 같은 인덱스 항목이 format 함수의 입력값으로 순서에 맞게 바뀐다.  "
   ]
  },
  {
   "cell_type": "code",
   "execution_count": null,
   "metadata": {},
   "outputs": [],
   "source": [
    "## 소수점 표현 -> 앞에서 살펴보았던 표현식 사용 가능\n",
    "y=3.4323423\n",
    "print('{0:0.4f}'.format(y)) #소수점 4자리\n",
    "print('{0:10.4f}'.format(y)) #소수점 4자리 + 오른쪽 정렬\n"
   ]
  },
  {
   "cell_type": "code",
   "execution_count": null,
   "metadata": {},
   "outputs": [],
   "source": [
    "## {}를 표시하고 싶은 경우\n",
    "print('{{ and }}'.format())"
   ]
  },
  {
   "cell_type": "markdown",
   "metadata": {},
   "source": [
    "format 함수를 사용해 문자열 포매팅을 할 경우 { }와 같은 중괄호(brace) 문자를 포매팅 문자가 아닌 문자 그대로 사용하고 싶은 경우에는 위 예의 {{ }}처럼 2개를 연속해서 사용하면 된다."
   ]
  },
  {
   "cell_type": "markdown",
   "metadata": {},
   "source": [
    "### 3. f문자열"
   ]
  },
  {
   "cell_type": "code",
   "execution_count": null,
   "metadata": {},
   "outputs": [],
   "source": [
    "name='홍길동'\n",
    "age= 30.3422323123\n",
    "print(f'내 이름은 {name}입니다. 나이는 {age:0.4f}입니다')"
   ]
  },
  {
   "cell_type": "markdown",
   "metadata": {},
   "source": [
    "## 문자열 관련 함수  \n",
    " ● 문자열 내장함수 : 문자열 자료형이 가지고 있는 함수로, 문자열 변수 뒤에 . 을 붙인 다음에 함수 이름을 쓰면 된다."
   ]
  },
  {
   "cell_type": "markdown",
   "metadata": {},
   "source": [
    "| 함수 | 설명 |\n",
    "| --- | --- | \n",
    "| count( ) | 특정 문자의 개수 |\n",
    "| find( ) | 특정 문자의 위치 |\n",
    "| index( ) | 특정 문자의 위치 |\n",
    "| upper( ), lower( ) | 대,소문자 변환 |\n",
    "| strip( ) | 공백 제거 |\n",
    "| replace( ) | 문자 바꾸기 |\n",
    "| split( ) | 문자열 나누기 |"
   ]
  },
  {
   "cell_type": "code",
   "execution_count": null,
   "metadata": {},
   "outputs": [],
   "source": [
    "##count : 특정 문자의 개수\n",
    "a = 'hobby'\n",
    "a.count('b')"
   ]
  },
  {
   "cell_type": "code",
   "execution_count": null,
   "metadata": {},
   "outputs": [],
   "source": [
    "## find : 특정 문자의 인덱스 1\n",
    "a = 'python is best choice'\n",
    "print(a.find('b'))\n",
    "print(a.find('k'))\n"
   ]
  },
  {
   "cell_type": "markdown",
   "metadata": {},
   "source": [
    "문자열 중 문자 b가 처음으로 나온 위치를 반환하고 만약 찾는 문자나 문자열이 존재하지 않으면 -1을 리턴"
   ]
  },
  {
   "cell_type": "code",
   "execution_count": null,
   "metadata": {},
   "outputs": [],
   "source": [
    "## index : 특정 문자의 인덱스 2\n",
    "a = 'Life is too short'\n",
    "print(a.index('t'))\n",
    "print(a.index('k'))"
   ]
  },
  {
   "cell_type": "markdown",
   "metadata": {},
   "source": [
    "find와는 다른 점은 찾는 문자열이 존재하지 않으면 오류를 발생 시킨다."
   ]
  },
  {
   "cell_type": "code",
   "execution_count": null,
   "metadata": {},
   "outputs": [],
   "source": [
    "## join : 문자열 삽입\n",
    "a=','\n",
    "a.join('abcd')"
   ]
  },
  {
   "cell_type": "code",
   "execution_count": null,
   "metadata": {},
   "outputs": [],
   "source": [
    "## upper, lower : 대,소문자 변환\n",
    "a = 'HI'\n",
    "b = 'hi'\n",
    "print(a.lower())\n",
    "print(a.upper())"
   ]
  },
  {
   "cell_type": "code",
   "execution_count": null,
   "metadata": {},
   "outputs": [],
   "source": [
    "## strip : 양쪽 공백 지우기\n",
    "## lstrip : 왼쪽 공백 지우기\n",
    "## rstrip : 오른쪽 공백 지우기\n",
    "a = ' hi '\n",
    "print(a.strip())\n",
    "print(a.lstrip())\n",
    "print(a.rstrip())"
   ]
  },
  {
   "cell_type": "code",
   "execution_count": null,
   "metadata": {},
   "outputs": [],
   "source": [
    "## replace : 문자열 바꾸기\n",
    "a = 'Life is too short'\n",
    "a.replace('Life','your leg')"
   ]
  },
  {
   "cell_type": "code",
   "execution_count": null,
   "metadata": {},
   "outputs": [],
   "source": [
    "## split : 문자열 나누기\n",
    "a = 'Life is too short'\n",
    "print(a.split())\n",
    "\n",
    "b = 'a:b:c:d'\n",
    "print(b.split(':'))"
   ]
  },
  {
   "cell_type": "code",
   "execution_count": null,
   "metadata": {},
   "outputs": [],
   "source": [
    "## 다음과 같이 연속으로 사용할수도 있다.\n",
    "a = ' Life is too short '\n",
    "print(a.strip().replace(\" \",'_'))"
   ]
  },
  {
   "cell_type": "markdown",
   "metadata": {},
   "source": [
    "---"
   ]
  },
  {
   "cell_type": "markdown",
   "metadata": {},
   "source": [
    "## Boolean 자료형  \n",
    "### 참(True)과 거짓(False)를 나타내는 자료형"
   ]
  },
  {
   "cell_type": "code",
   "execution_count": null,
   "metadata": {},
   "outputs": [],
   "source": [
    "##Boolean 자료형은 조건문의 리턴값으로 사용됨\n",
    "print(1==1)\n",
    "print(2>1)\n",
    "print(2<1)"
   ]
  },
  {
   "cell_type": "markdown",
   "metadata": {},
   "source": [
    "| 값         | True or False |\n",
    "|------------|---------------|\n",
    "| \"python\"   | True          |\n",
    "| \"\"         | False         |\n",
    "| [1, 2, 3]  | True          |\n",
    "| []         | False         |\n",
    "| ()         | False         |\n",
    "| {}         | False         |\n",
    "| 1          | True          |\n",
    "| 0          | False         |\n",
    "| None       | False         |"
   ]
  },
  {
   "cell_type": "code",
   "execution_count": null,
   "metadata": {},
   "outputs": [],
   "source": [
    "## bool 연산\n",
    "print(bool('python'))\n",
    "print(bool(''))"
   ]
  },
  {
   "cell_type": "markdown",
   "metadata": {},
   "source": [
    "python이라는 문자열은 빈 문자열이 아니므로 True, ''는 빈 문자열이므로 False 리턴"
   ]
  },
  {
   "cell_type": "code",
   "execution_count": null,
   "metadata": {},
   "outputs": [],
   "source": [
    "print(bool([1,2,3]))\n",
    "print(bool([]))\n",
    "print(bool(0))\n",
    "print(bool(3))"
   ]
  },
  {
   "cell_type": "markdown",
   "metadata": {},
   "source": [
    "---"
   ]
  },
  {
   "cell_type": "markdown",
   "metadata": {},
   "source": [
    "# 컨테이너 자료형  \n",
    "파이썬의 기본 컨테이너 자료형  \n",
    "1. 리스트  (List)\n",
    "2. 튜플    (Tuple)\n",
    "3. 딕셔너리 (Dictionary)\n",
    "4. 집합    (Set)"
   ]
  },
  {
   "cell_type": "markdown",
   "metadata": {},
   "source": [
    "---"
   ]
  },
  {
   "cell_type": "markdown",
   "metadata": {},
   "source": [
    "## 1.리스트\n",
    "리스트는 데이터의 목록을 다루는 자료형  \n",
    "단일 데이터가 명함이라면, 리스트는 명함을 모아두는 명함집"
   ]
  },
  {
   "cell_type": "code",
   "execution_count": 4,
   "metadata": {},
   "outputs": [],
   "source": [
    "odd=[1,3,5,7]\n",
    "a=[1,2,['a','b']]"
   ]
  },
  {
   "cell_type": "code",
   "execution_count": null,
   "metadata": {},
   "outputs": [],
   "source": [
    "##리스트의 인덱싱\n",
    "a=[1,2,3]\n",
    "print(a[0])\n",
    "print(a[2])\n",
    "print(a[-1])\n",
    "print(a[0]+a[2])"
   ]
  },
  {
   "cell_type": "code",
   "execution_count": null,
   "metadata": {},
   "outputs": [],
   "source": [
    "##중첩된 리스트의 인덱싱\n",
    "a=[1,2,3,['a','b','c']]\n",
    "print(a[-1])\n",
    "print(a[3][0])"
   ]
  },
  {
   "cell_type": "code",
   "execution_count": null,
   "metadata": {},
   "outputs": [],
   "source": [
    "##리스트의 슬라이싱\n",
    "a=[1,2,3,4,5]\n",
    "print(a[0:2])\n",
    "print(a[2:])"
   ]
  },
  {
   "cell_type": "code",
   "execution_count": null,
   "metadata": {},
   "outputs": [],
   "source": [
    "##중첩된 리스트의 슬라이싱\n",
    "a=[1,2,3,['a','b','c'],4,5]\n",
    "print(a[2:5])\n",
    "print(a[3][:2])"
   ]
  },
  {
   "cell_type": "code",
   "execution_count": null,
   "metadata": {},
   "outputs": [],
   "source": [
    "##리스트 더하기\n",
    "a=[1,2,3]\n",
    "b=[4,5,6]\n",
    "print(a+b)"
   ]
  },
  {
   "cell_type": "code",
   "execution_count": null,
   "metadata": {},
   "outputs": [],
   "source": [
    "a=[1,2,3]\n",
    "print(a*3)"
   ]
  },
  {
   "cell_type": "markdown",
   "metadata": {},
   "source": [
    "### 리스트 더하기 주의사항\n",
    "리스트에 + 연산자를 사용할 때, 양쪽의 피연산자가 모두 리스트여야 한다. 리스트와 다른 타입을 더하려고 하면 TypeError가 발생한다."
   ]
  },
  {
   "cell_type": "code",
   "execution_count": null,
   "metadata": {},
   "outputs": [],
   "source": [
    "a=[1,2,3]\n",
    "b='456'\n",
    "print(a+b)"
   ]
  },
  {
   "cell_type": "code",
   "execution_count": null,
   "metadata": {},
   "outputs": [],
   "source": [
    "print(a[2]+'hi')"
   ]
  },
  {
   "cell_type": "code",
   "execution_count": null,
   "metadata": {},
   "outputs": [],
   "source": [
    "##str( )은 정수나 실수를 문자열의 형태로 바꿔주는 파이썬의 내장 함수이다.\n",
    "print(str(a[2])+'hi')"
   ]
  },
  {
   "cell_type": "code",
   "execution_count": null,
   "metadata": {},
   "outputs": [],
   "source": [
    "##리스트에서 하나의 값 수정하기\n",
    "a=[1,2,3]\n",
    "a[2]=4\n",
    "print(a)\n",
    "\n",
    "a[1:2]=['a','b','c']\n",
    "print(a)"
   ]
  },
  {
   "cell_type": "code",
   "execution_count": null,
   "metadata": {},
   "outputs": [],
   "source": [
    "a=[1,2,3]\n",
    "a[1] =['a','b','c']\n",
    "print(a)"
   ]
  },
  {
   "cell_type": "markdown",
   "metadata": {},
   "source": [
    "a[1:2] = ['a','b','c'] 로 수정하는 것과 a[1]=['a','b','c']로 수정하는 것은 전혀 다른 결과값을 갖게 되므로 주의해야 한다."
   ]
  },
  {
   "cell_type": "code",
   "execution_count": 41,
   "metadata": {},
   "outputs": [
    {
     "name": "stdout",
     "output_type": "stream",
     "text": [
      "[1, 'c', 4]\n"
     ]
    }
   ],
   "source": [
    "##[] 사용해 리스트 요소 삭제\n",
    "a=[1,'a','b','c',4]\n",
    "a[1:3]=[]\n",
    "print(a)"
   ]
  },
  {
   "cell_type": "code",
   "execution_count": 44,
   "metadata": {},
   "outputs": [
    {
     "name": "stdout",
     "output_type": "stream",
     "text": [
      "[1, 'c', 4]\n",
      "[1, 4]\n"
     ]
    }
   ],
   "source": [
    "##del 함수 사용해 리스트 요소 삭제\n",
    "print(a)\n",
    "del a[1]\n",
    "print(a)"
   ]
  },
  {
   "cell_type": "code",
   "execution_count": 45,
   "metadata": {},
   "outputs": [
    {
     "data": {
      "text/plain": [
       "4"
      ]
     },
     "execution_count": 45,
     "metadata": {},
     "output_type": "execute_result"
    }
   ],
   "source": [
    "##len() 함수 사용해 리스트의 크기 구하기\n",
    "a=[1,2,3,4]\n",
    "len(a)"
   ]
  },
  {
   "cell_type": "markdown",
   "metadata": {},
   "source": [
    "참고로 a.count() 와 같이 사용되는 것들은 '메서드(method)'라고 하는 것들이며 특정 객체에 속해 있는 함수들이다.  \n",
    "len(a) 와 같이 사용되는 것은 함수(function)이며 특정 객체에 속하지 않고 독립적으로 정의되어 호출된다."
   ]
  },
  {
   "cell_type": "code",
   "execution_count": 46,
   "metadata": {},
   "outputs": [
    {
     "name": "stdout",
     "output_type": "stream",
     "text": [
      "[1, 2, 3, 4]\n"
     ]
    }
   ],
   "source": [
    "##append를 사용하여 리스트에 요소 추가\n",
    "a=[1,2,3]\n",
    "a.append(4)\n",
    "print(a)"
   ]
  },
  {
   "cell_type": "code",
   "execution_count": 57,
   "metadata": {},
   "outputs": [
    {
     "name": "stdout",
     "output_type": "stream",
     "text": [
      "[1, 2, 3, 4]\n",
      "[4, 3, 2, 1]\n",
      "['a', 'b', 'c', 'd']\n",
      "['ㄱ', 'ㄴ', 'ㄷ', 'ㄹ']\n"
     ]
    }
   ],
   "source": [
    "##sort를 사용해 리스트 정렬\n",
    "a=[1,4,3,2]\n",
    "a.sort()                 ##오름차순 (default)\n",
    "print(a)\n",
    "\n",
    "a.sort(reverse=True)     ##내림차순\n",
    "print(a)\n",
    "\n",
    "b=['a','d','c','b']\n",
    "b.sort()\n",
    "print(b)\n",
    "\n",
    "c=['ㄴ','ㄹ','ㄱ','ㄷ']\n",
    "c.sort()\n",
    "print(c)"
   ]
  },
  {
   "cell_type": "code",
   "execution_count": 59,
   "metadata": {},
   "outputs": [
    {
     "name": "stdout",
     "output_type": "stream",
     "text": [
      "['b', 'c', 'a']\n"
     ]
    }
   ],
   "source": [
    "##reverse를 사용해 리스트 뒤집기\n",
    "a=['a','c','b']\n",
    "a.reverse()\n",
    "print(a)"
   ]
  },
  {
   "cell_type": "code",
   "execution_count": 63,
   "metadata": {},
   "outputs": [
    {
     "name": "stdout",
     "output_type": "stream",
     "text": [
      "2\n",
      "0\n"
     ]
    }
   ],
   "source": [
    "##index를 사용해 위치 반환\n",
    "a=[1,2,3]\n",
    "print(a.index(3))\n",
    "print(a.index(1))"
   ]
  },
  {
   "cell_type": "code",
   "execution_count": 65,
   "metadata": {},
   "outputs": [
    {
     "name": "stdout",
     "output_type": "stream",
     "text": [
      "[4, 1, 2, 3]\n"
     ]
    }
   ],
   "source": [
    "##insert를 사용해 리스트에 요소 삽입 : append(추가하고 싶은 인덱스, 값)\n",
    "a=[1,2,3]\n",
    "a.insert(0,4)\n",
    "print(a)"
   ]
  },
  {
   "cell_type": "code",
   "execution_count": 66,
   "metadata": {},
   "outputs": [
    {
     "name": "stdout",
     "output_type": "stream",
     "text": [
      "[1, 2, 1, 2, 3]\n"
     ]
    }
   ],
   "source": [
    "##remove를 사용해 리스트 요소 제거 : 선택한 값이 리스트에서 사라짐\n",
    "a=[1,2,3,1,2,3]\n",
    "a.remove(3)\n",
    "print(a)"
   ]
  },
  {
   "cell_type": "code",
   "execution_count": 68,
   "metadata": {},
   "outputs": [
    {
     "name": "stdout",
     "output_type": "stream",
     "text": [
      "[1, 2]\n"
     ]
    }
   ],
   "source": [
    "##pop을 사용해 리스트 요소 빼내기\n",
    "a=[1,2,3]\n",
    "a.pop()\n",
    "print(a)"
   ]
  },
  {
   "cell_type": "code",
   "execution_count": 69,
   "metadata": {},
   "outputs": [
    {
     "name": "stdout",
     "output_type": "stream",
     "text": [
      "[1, 3]\n"
     ]
    }
   ],
   "source": [
    "a=[1,2,3]\n",
    "a.pop(1)\n",
    "print(a)  ##인덱스 번호에 해당하는 원소를 끄집어낸다. default:-1"
   ]
  },
  {
   "cell_type": "code",
   "execution_count": 70,
   "metadata": {},
   "outputs": [
    {
     "name": "stdout",
     "output_type": "stream",
     "text": [
      "2\n"
     ]
    }
   ],
   "source": [
    "##count로 리스트에 포함된 요소x 의 개수 새기\n",
    "a=[1,2,3,4,4]\n",
    "print(a.count(4))"
   ]
  },
  {
   "cell_type": "code",
   "execution_count": 73,
   "metadata": {},
   "outputs": [
    {
     "name": "stdout",
     "output_type": "stream",
     "text": [
      "[1, 2, 3, 4, 5]\n",
      "[1, 2, 3, 4, 5, 6, 7]\n"
     ]
    }
   ],
   "source": [
    "##extend로 리스트 확장\n",
    "a=[1,2,3]\n",
    "a.extend([4,5])\n",
    "print(a)\n",
    "\n",
    "b=[6,7]\n",
    "a.extend(b)\n",
    "print(a)"
   ]
  },
  {
   "cell_type": "markdown",
   "metadata": {},
   "source": [
    "---"
   ]
  },
  {
   "cell_type": "markdown",
   "metadata": {},
   "source": [
    "## 2. 튜플 자료형\n",
    "리스트는 리스트 생성 후 추가/수정/삭제가 가능하지만 튜플은 생성하고 나면 변경이 불가능함  \n",
    "리스트는 이름 그대로 목록 형식의 데이터를 다루는데 적합하며 튜플은 위경도 좌표나 RGB 색상처럼 작은 규모의 자료구조를 구성하기에 적합"
   ]
  },
  {
   "cell_type": "code",
   "execution_count": 74,
   "metadata": {},
   "outputs": [],
   "source": [
    "##튜플의 형태\n",
    "t1=()\n",
    "t2=(1,)                     ##t2=(1,)처럽 단지 1개의 요소만을 가질 때는 요소 뒤에 콤마를 반드시 붙여야 함.\n",
    "t3=(1,2,3)\n",
    "t4=1,2,3\n",
    "t5=('a','b',('ab','cd'))"
   ]
  },
  {
   "cell_type": "code",
   "execution_count": 75,
   "metadata": {},
   "outputs": [
    {
     "ename": "TypeError",
     "evalue": "'tuple' object doesn't support item deletion",
     "output_type": "error",
     "traceback": [
      "\u001b[1;31m---------------------------------------------------------------------------\u001b[0m",
      "\u001b[1;31mTypeError\u001b[0m                                 Traceback (most recent call last)",
      "Cell \u001b[1;32mIn[75], line 3\u001b[0m\n\u001b[0;32m      1\u001b[0m \u001b[38;5;66;03m##튜플 요소 값 삭제시 오류\u001b[39;00m\n\u001b[0;32m      2\u001b[0m t1\u001b[38;5;241m=\u001b[39m(\u001b[38;5;241m1\u001b[39m,\u001b[38;5;241m2\u001b[39m,\u001b[38;5;124m'\u001b[39m\u001b[38;5;124ma\u001b[39m\u001b[38;5;124m'\u001b[39m,\u001b[38;5;124m'\u001b[39m\u001b[38;5;124mb\u001b[39m\u001b[38;5;124m'\u001b[39m)\n\u001b[1;32m----> 3\u001b[0m \u001b[38;5;28;01mdel\u001b[39;00m t1[\u001b[38;5;241m0\u001b[39m]\n",
      "\u001b[1;31mTypeError\u001b[0m: 'tuple' object doesn't support item deletion"
     ]
    }
   ],
   "source": [
    "##튜플 요소 값 삭제시 오류\n",
    "t1=(1,2,'a','b')\n",
    "del t1[0]"
   ]
  },
  {
   "cell_type": "code",
   "execution_count": 76,
   "metadata": {},
   "outputs": [
    {
     "ename": "TypeError",
     "evalue": "'tuple' object does not support item assignment",
     "output_type": "error",
     "traceback": [
      "\u001b[1;31m---------------------------------------------------------------------------\u001b[0m",
      "\u001b[1;31mTypeError\u001b[0m                                 Traceback (most recent call last)",
      "Cell \u001b[1;32mIn[76], line 3\u001b[0m\n\u001b[0;32m      1\u001b[0m \u001b[38;5;66;03m##튜플 요소값 변경 시 오류\u001b[39;00m\n\u001b[0;32m      2\u001b[0m t1\u001b[38;5;241m=\u001b[39m(\u001b[38;5;241m1\u001b[39m,\u001b[38;5;241m2\u001b[39m,\u001b[38;5;124m'\u001b[39m\u001b[38;5;124ma\u001b[39m\u001b[38;5;124m'\u001b[39m,\u001b[38;5;124m'\u001b[39m\u001b[38;5;124mb\u001b[39m\u001b[38;5;124m'\u001b[39m)\n\u001b[1;32m----> 3\u001b[0m t1[\u001b[38;5;241m0\u001b[39m]\u001b[38;5;241m=\u001b[39m\u001b[38;5;124m'\u001b[39m\u001b[38;5;124mc\u001b[39m\u001b[38;5;124m'\u001b[39m\n",
      "\u001b[1;31mTypeError\u001b[0m: 'tuple' object does not support item assignment"
     ]
    }
   ],
   "source": [
    "##튜플 요소값 변경 시 오류\n",
    "t1=(1,2,'a','b')\n",
    "t1[0]='c'"
   ]
  },
  {
   "cell_type": "code",
   "execution_count": 78,
   "metadata": {},
   "outputs": [
    {
     "name": "stdout",
     "output_type": "stream",
     "text": [
      "1\n",
      "b\n"
     ]
    },
    {
     "data": {
      "text/plain": [
       "(2, 'a', 'b')"
      ]
     },
     "execution_count": 78,
     "metadata": {},
     "output_type": "execute_result"
    }
   ],
   "source": [
    "##인덱싱\n",
    "t1=(1,2,'a','b')\n",
    "print(t1[0])\n",
    "print(t1[3])\n",
    "\n",
    "##슬라이싱\n",
    "t1[1:]"
   ]
  },
  {
   "cell_type": "code",
   "execution_count": 80,
   "metadata": {},
   "outputs": [
    {
     "name": "stdout",
     "output_type": "stream",
     "text": [
      "(1, 2, 'a', 'b', 3, 4)\n",
      "(3, 4, 3, 4, 3, 4)\n"
     ]
    }
   ],
   "source": [
    "##더하기\n",
    "t2=(3,4)\n",
    "print(t1+t2)\n",
    "\n",
    "##곱하기\n",
    "print(t2*3)"
   ]
  },
  {
   "cell_type": "markdown",
   "metadata": {},
   "source": [
    "---"
   ]
  },
  {
   "cell_type": "markdown",
   "metadata": {},
   "source": [
    "## 3. 딕셔너리 자료형\n",
    "● 연관 배열(Associative array) 또는 해시(Hash)라고도 불림  \n",
    "● Key를 통해 value를 얻음"
   ]
  },
  {
   "cell_type": "code",
   "execution_count": 1,
   "metadata": {},
   "outputs": [],
   "source": [
    "dict={'name':'pey','phone':'01022223333','birth':'1118'}"
   ]
  },
  {
   "cell_type": "code",
   "execution_count": 2,
   "metadata": {},
   "outputs": [
    {
     "name": "stdout",
     "output_type": "stream",
     "text": [
      "{1: 'a', 2: 'b'}\n"
     ]
    }
   ],
   "source": [
    "##딕셔너리 쌍 추가\n",
    "a = {1:'a'}\n",
    "a[2]='b'\n",
    "print(a)"
   ]
  },
  {
   "cell_type": "code",
   "execution_count": 3,
   "metadata": {},
   "outputs": [
    {
     "name": "stdout",
     "output_type": "stream",
     "text": [
      "{2: 'b'}\n"
     ]
    }
   ],
   "source": [
    "##딕셔너리 요소 제거\n",
    "del a[1]\n",
    "print(a)"
   ]
  },
  {
   "cell_type": "code",
   "execution_count": 5,
   "metadata": {},
   "outputs": [
    {
     "name": "stdout",
     "output_type": "stream",
     "text": [
      "10\n",
      "99\n"
     ]
    }
   ],
   "source": [
    "##딕셔너리에서 key 사용해 value 얻기\n",
    "grade = {'pey':10,'jim':99}\n",
    "print(grade['pey'])\n",
    "print(grade['jim'])"
   ]
  },
  {
   "cell_type": "code",
   "execution_count": 8,
   "metadata": {},
   "outputs": [
    {
     "name": "stdout",
     "output_type": "stream",
     "text": [
      "2\n"
     ]
    }
   ],
   "source": [
    "##딕셔너리 만들 때 주의사항 1 : 덮어쓰기\n",
    "a = {1:'a',1:'2'}\n",
    "print(a[1])"
   ]
  },
  {
   "cell_type": "code",
   "execution_count": 9,
   "metadata": {},
   "outputs": [
    {
     "ename": "TypeError",
     "evalue": "unhashable type: 'list'",
     "output_type": "error",
     "traceback": [
      "\u001b[1;31m---------------------------------------------------------------------------\u001b[0m",
      "\u001b[1;31mTypeError\u001b[0m                                 Traceback (most recent call last)",
      "Cell \u001b[1;32mIn[9], line 2\u001b[0m\n\u001b[0;32m      1\u001b[0m \u001b[38;5;66;03m##딕셔너리 만들 때 주의사항 2 : key에 리스트를 쓸 수는 없음(튜플은 가능)\u001b[39;00m\n\u001b[1;32m----> 2\u001b[0m a \u001b[38;5;241m=\u001b[39m {[\u001b[38;5;241m1\u001b[39m,\u001b[38;5;241m2\u001b[39m]:\u001b[38;5;124m'\u001b[39m\u001b[38;5;124mhi\u001b[39m\u001b[38;5;124m'\u001b[39m}\n",
      "\u001b[1;31mTypeError\u001b[0m: unhashable type: 'list'"
     ]
    }
   ],
   "source": [
    "##딕셔너리 만들 때 주의사항 2 : key에 리스트를 쓸 수는 없음(튜플은 가능)\n",
    "a = {[1,2]:'hi'}"
   ]
  },
  {
   "cell_type": "code",
   "execution_count": 12,
   "metadata": {},
   "outputs": [
    {
     "name": "stdout",
     "output_type": "stream",
     "text": [
      "dict_keys(['name', 'phone', 'birth'])\n",
      "['name', 'phone', 'birth']\n"
     ]
    }
   ],
   "source": [
    "##key 리스트 만들기\n",
    "a={'name': 'pey','phone':'01022223333','birth':'1118'}\n",
    "\n",
    "print(a.keys())\n",
    "print(list(a.keys()))"
   ]
  },
  {
   "cell_type": "code",
   "execution_count": 13,
   "metadata": {},
   "outputs": [
    {
     "name": "stdout",
     "output_type": "stream",
     "text": [
      "dict_values(['pey', '01022223333', '1118'])\n"
     ]
    }
   ],
   "source": [
    "##value 리스트 만들기\n",
    "print(a.values())"
   ]
  },
  {
   "cell_type": "code",
   "execution_count": 15,
   "metadata": {},
   "outputs": [
    {
     "name": "stdout",
     "output_type": "stream",
     "text": [
      "dict_items([('name', 'pey'), ('phone', '01022223333'), ('birth', '1118')])\n"
     ]
    }
   ],
   "source": [
    "##key, value 쌍 얻기\n",
    "print(a.items())"
   ]
  },
  {
   "cell_type": "code",
   "execution_count": 16,
   "metadata": {},
   "outputs": [
    {
     "name": "stdout",
     "output_type": "stream",
     "text": [
      "{}\n"
     ]
    }
   ],
   "source": [
    "##key,value 모두 지우기\n",
    "a.clear()\n",
    "print(a)"
   ]
  },
  {
   "cell_type": "code",
   "execution_count": 18,
   "metadata": {},
   "outputs": [
    {
     "name": "stdout",
     "output_type": "stream",
     "text": [
      "pey\n",
      "bar\n"
     ]
    }
   ],
   "source": [
    "##key로 value 얻기\n",
    "a={'name': 'pey','phone':'01022223333','birth':'1118'}\n",
    "\n",
    "print(a.get('name'))\n",
    "print(a.get('foo','bar'))"
   ]
  },
  {
   "cell_type": "markdown",
   "metadata": {},
   "source": [
    "딕셔너리 안에 찾으려는 key 값이 없을 경우 미리 정해 둔 디폴트 값을 대신 가져오게 하고 싶을 때에는 get(x,'디폴트값')을 사용하면 편리하다."
   ]
  },
  {
   "cell_type": "code",
   "execution_count": 20,
   "metadata": {},
   "outputs": [
    {
     "name": "stdout",
     "output_type": "stream",
     "text": [
      "True\n",
      "False\n"
     ]
    }
   ],
   "source": [
    "##해당 key가 딕셔너리 안에 있는지 조사하기\n",
    "print('name' in a)\n",
    "print('email' in a)"
   ]
  },
  {
   "cell_type": "markdown",
   "metadata": {},
   "source": [
    "---"
   ]
  },
  {
   "cell_type": "markdown",
   "metadata": {},
   "source": [
    "## 4.집합 자료형\n",
    "● 집합에 관련된 것들을 쉽게 처리하기 위해 만들어진 자료형  \n",
    "● 중복이 허용 안됨  \n",
    "● 순서가 없음(Unordered)"
   ]
  },
  {
   "cell_type": "code",
   "execution_count": 22,
   "metadata": {},
   "outputs": [
    {
     "name": "stdout",
     "output_type": "stream",
     "text": [
      "{1, 2, 3}\n"
     ]
    }
   ],
   "source": [
    "##집합 자료형\n",
    "s1=set([1,2,3])\n",
    "print(s1)"
   ]
  },
  {
   "cell_type": "code",
   "execution_count": 23,
   "metadata": {},
   "outputs": [
    {
     "name": "stdout",
     "output_type": "stream",
     "text": [
      "{'o', 'l', 'h', 'e'}\n"
     ]
    }
   ],
   "source": [
    "##순서와 중복 X\n",
    "s2=set('hello')\n",
    "print(s2)"
   ]
  },
  {
   "cell_type": "code",
   "execution_count": 24,
   "metadata": {},
   "outputs": [],
   "source": [
    "##중괄호를 이용하여 집합을 만들 때는 반드시 원소가 들어가 있어야 함\n",
    "a={} # 딕셔너리\n",
    "b={1:2} #딕셔너리\n",
    "c={1,2,3} #집합"
   ]
  },
  {
   "cell_type": "code",
   "execution_count": 26,
   "metadata": {},
   "outputs": [
    {
     "name": "stdout",
     "output_type": "stream",
     "text": [
      "{4, 5, 6}\n",
      "{4, 5, 6}\n"
     ]
    }
   ],
   "source": [
    "##교집합\n",
    "s1=set([1,2,3,4,5,6])\n",
    "s2=set([4,5,6,7,8,9])\n",
    "\n",
    "print(s1 & s2)\n",
    "print(s1.intersection(s2))"
   ]
  },
  {
   "cell_type": "code",
   "execution_count": 28,
   "metadata": {},
   "outputs": [
    {
     "name": "stdout",
     "output_type": "stream",
     "text": [
      "{1, 2, 3, 4, 5, 6, 7, 8, 9}\n",
      "{1, 2, 3, 4, 5, 6, 7, 8, 9}\n"
     ]
    }
   ],
   "source": [
    "##합집합\n",
    "print(s1 | s2)\n",
    "print(s1.union(s2))"
   ]
  },
  {
   "cell_type": "code",
   "execution_count": 31,
   "metadata": {},
   "outputs": [
    {
     "name": "stdout",
     "output_type": "stream",
     "text": [
      "{1, 2, 3}\n",
      "{1, 2, 3}\n",
      "{8, 9, 7}\n",
      "{8, 9, 7}\n"
     ]
    }
   ],
   "source": [
    "##차집합\n",
    "print(s1-s2)\n",
    "print(s1.difference(s2))\n",
    "\n",
    "print(s2-s1)\n",
    "print(s2.difference(s1))\n"
   ]
  },
  {
   "cell_type": "code",
   "execution_count": 32,
   "metadata": {},
   "outputs": [
    {
     "name": "stdout",
     "output_type": "stream",
     "text": [
      "{1, 2, 3, 4}\n"
     ]
    }
   ],
   "source": [
    "##값 1개 추가하기\n",
    "s1=set([1,2,3])\n",
    "s1.add(4)\n",
    "\n",
    "print(s1)"
   ]
  },
  {
   "cell_type": "code",
   "execution_count": 33,
   "metadata": {},
   "outputs": [
    {
     "name": "stdout",
     "output_type": "stream",
     "text": [
      "{1, 2, 3, 4, 5, 6}\n"
     ]
    }
   ],
   "source": [
    "##값 여러 개 추가하기\n",
    "s1.update([4,5,6])\n",
    "print(s1)"
   ]
  },
  {
   "cell_type": "code",
   "execution_count": 35,
   "metadata": {},
   "outputs": [
    {
     "name": "stdout",
     "output_type": "stream",
     "text": [
      "{1, 2, 3, 4, 5}\n"
     ]
    }
   ],
   "source": [
    "##특정 값 제거하기\n",
    "s1.remove(6)\n",
    "print(s1)"
   ]
  },
  {
   "cell_type": "code",
   "execution_count": 37,
   "metadata": {},
   "outputs": [
    {
     "name": "stdout",
     "output_type": "stream",
     "text": [
      "[1, 2, 3, 4, 5]\n"
     ]
    }
   ],
   "source": [
    "##집합을 리스트로 변경\n",
    "s2=list(s1)\n",
    "print(s2)"
   ]
  },
  {
   "cell_type": "code",
   "execution_count": 38,
   "metadata": {},
   "outputs": [
    {
     "name": "stdout",
     "output_type": "stream",
     "text": [
      "{1, 2, 3, 4, 5}\n"
     ]
    }
   ],
   "source": [
    "##리스트를 집합으로 변경 -> 중복 제가\n",
    "s1=[1,2,3,3]\n",
    "s2=set(s2)\n",
    "\n",
    "print(s2)"
   ]
  },
  {
   "cell_type": "markdown",
   "metadata": {},
   "source": [
    "---"
   ]
  },
  {
   "cell_type": "markdown",
   "metadata": {},
   "source": [
    "## 변수\n",
    "● 변수는 자료형의 값을 저장하는 객체임"
   ]
  },
  {
   "cell_type": "code",
   "execution_count": 39,
   "metadata": {},
   "outputs": [],
   "source": [
    "a=3"
   ]
  },
  {
   "cell_type": "markdown",
   "metadata": {},
   "source": [
    "위의 코드를 통해 \n",
    "\n",
    "● 3이라는 값을 가지는 정수 자료형(객체)이 자동으로 메모리에 생성  \n",
    "● 변수 a는 객체가 저장된 메모리의 위치를 가리키는 레퍼런스  \n",
    "● a라는 변수는 3이라는 정수형 객체를 가리킴  "
   ]
  },
  {
   "cell_type": "code",
   "execution_count": 40,
   "metadata": {},
   "outputs": [],
   "source": [
    "## 리스트 변수 주의사항\n",
    "a=[1,2,3]\n",
    "b=a"
   ]
  },
  {
   "cell_type": "code",
   "execution_count": 41,
   "metadata": {},
   "outputs": [
    {
     "name": "stdout",
     "output_type": "stream",
     "text": [
      "[1, 4, 3]\n",
      "[1, 4, 3]\n"
     ]
    }
   ],
   "source": [
    "##Reference 변수가 바뀌며 b도 같이 바뀜\n",
    "a[1]=4\n",
    "print(a)\n",
    "print(b)"
   ]
  },
  {
   "cell_type": "markdown",
   "metadata": {},
   "source": [
    "[:]를 이용하여 복사하면 새로운 리스트를 생성한다."
   ]
  },
  {
   "cell_type": "code",
   "execution_count": 43,
   "metadata": {},
   "outputs": [
    {
     "name": "stdout",
     "output_type": "stream",
     "text": [
      "[1, 4, 3]\n",
      "[1, 2, 3]\n"
     ]
    }
   ],
   "source": [
    "## 같은 값을 가지는 다른 객체 생성\n",
    "a=[1,2,3]\n",
    "b=a[:]\n",
    "a[1]=4\n",
    "\n",
    "print(a)\n",
    "print(b)"
   ]
  }
 ],
 "metadata": {
  "kernelspec": {
   "display_name": "base",
   "language": "python",
   "name": "python3"
  },
  "language_info": {
   "codemirror_mode": {
    "name": "ipython",
    "version": 3
   },
   "file_extension": ".py",
   "mimetype": "text/x-python",
   "name": "python",
   "nbconvert_exporter": "python",
   "pygments_lexer": "ipython3",
   "version": "3.10.9"
  }
 },
 "nbformat": 4,
 "nbformat_minor": 2
}
